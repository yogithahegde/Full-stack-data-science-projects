{
  "nbformat": 4,
  "nbformat_minor": 0,
  "metadata": {
    "colab": {
      "provenance": [],
      "authorship_tag": "ABX9TyNpdSSJGKTfJpNaWlANPF3n",
      "include_colab_link": true
    },
    "kernelspec": {
      "name": "python3",
      "display_name": "Python 3"
    },
    "language_info": {
      "name": "python"
    }
  },
  "cells": [
    {
      "cell_type": "markdown",
      "metadata": {
        "id": "view-in-github",
        "colab_type": "text"
      },
      "source": [
        "<a href=\"https://colab.research.google.com/github/yogithahegde/Full-stack-data-science-projects/blob/main/hands_on_AUC_and_ROC.ipynb\" target=\"_parent\"><img src=\"https://colab.research.google.com/assets/colab-badge.svg\" alt=\"Open In Colab\"/></a>"
      ]
    },
    {
      "cell_type": "code",
      "execution_count": 1,
      "metadata": {
        "id": "DrSuM1G6g4-h"
      },
      "outputs": [],
      "source": [
        "from pandas import read_csv\n",
        "from sklearn.model_selection import train_test_split\n",
        "from sklearn.linear_model import LogisticRegression\n",
        "import numpy as np\n",
        "\n",
        "import pylab as pl\n",
        "from sklearn import svm\n",
        "from sklearn.utils import shuffle\n",
        "from sklearn.metrics import roc_curve, auc\n",
        "random_state = np.random.RandomState(0)\n",
        "import warnings\n",
        "warnings.filterwarnings('ignore')\n",
        "\n",
        "\n",
        "\n",
        "df = read_csv('/content/pima-indians-diabetes.csv')\n",
        "\n",
        "X = df.drop('class',axis = 1)\n",
        "Y = df['class']\n",
        "\n",
        "X_train, X_test, y_train, y_test = train_test_split(X, Y, test_size=0.50, random_state=1)\n",
        "\n",
        "\n",
        "classifier1 = LogisticRegression()\n",
        "\n",
        "classifier2 = svm.SVC(kernel='linear', probability=True)\n",
        "\n",
        "\n",
        "probas1_ = classifier1.fit(X_train, y_train).predict_proba(X_test)\n",
        "probas2_ = classifier2.fit(X_train, y_train).predict_proba(X_test)"
      ]
    },
    {
      "cell_type": "markdown",
      "source": [
        "True positive == Recall\n",
        "\n",
        "The false positive rate is calculated as the ratio between the number of negative events wrongly categorized as positive (false positives) and the total number of actual negative events (regardless of classification).\n",
        "\n",
        "FP/FP+TN:"
      ],
      "metadata": {
        "id": "1MhziTutNaDH"
      }
    },
    {
      "cell_type": "code",
      "source": [
        "# Compute ROC curve and area the curve for logistic\n",
        "fpr1, tpr1, thresholds1 = roc_curve(y_test, probas1_[:, 1]) \n",
        "roc_auc1 = auc(fpr1, tpr1)\n",
        "print(\"Area under the ROC curve : %f\" % roc_auc1)"
      ],
      "metadata": {
        "colab": {
          "base_uri": "https://localhost:8080/"
        },
        "id": "gERZWv_ENT31",
        "outputId": "34e1d1ab-8677-4686-aea7-2d293874ffa9"
      },
      "execution_count": 2,
      "outputs": [
        {
          "output_type": "stream",
          "name": "stdout",
          "text": [
            "Area under the ROC curve : 0.830152\n"
          ]
        }
      ]
    },
    {
      "cell_type": "code",
      "source": [
        "# Compute ROC curve and area the curve\n",
        "fpr2, tpr2, thresholds2 = roc_curve(y_test, probas2_[:, 1])\n",
        "roc_auc2 = auc(fpr2, tpr2)\n",
        "print(\"Area under the ROC curve : %f\" % roc_auc2)"
      ],
      "metadata": {
        "colab": {
          "base_uri": "https://localhost:8080/"
        },
        "id": "_XY3CZm5NUBm",
        "outputId": "68948cd0-122d-435c-cce9-985f0cd038e7"
      },
      "execution_count": 3,
      "outputs": [
        {
          "output_type": "stream",
          "name": "stdout",
          "text": [
            "Area under the ROC curve : 0.836043\n"
          ]
        }
      ]
    },
    {
      "cell_type": "code",
      "source": [
        "# Plot the ROC\n",
        "\n",
        "# Plot ROC curve\n",
        "pl.clf()\n",
        "pl.plot(fpr1, tpr1, label='ROC curve for logistic (area = %0.2f)' % roc_auc1)\n",
        "pl.plot(fpr2, tpr2, label='ROC curve for SVC (area = %0.2f)' % roc_auc2)\n",
        "pl.plot([0, 1], [0, 1], 'k--')\n",
        "pl.xlim([0.0, 1.0])\n",
        "pl.ylim([0.0, 1.0])\n",
        "pl.xlabel('False Positive Rate')\n",
        "pl.ylabel('True Positive Rate')\n",
        "pl.title('Receiverrating characteristic example')\n",
        "pl.legend(loc=\"lower right\")\n",
        "pl.show()"
      ],
      "metadata": {
        "colab": {
          "base_uri": "https://localhost:8080/",
          "height": 295
        },
        "id": "SWvT7hggNULo",
        "outputId": "a5564d2b-9f8b-472f-f1e6-cbf2bf99f914"
      },
      "execution_count": 4,
      "outputs": [
        {
          "output_type": "display_data",
          "data": {
            "text/plain": [
              "<Figure size 432x288 with 1 Axes>"
            ],
            "image/png": "[encoded data removed]"
          },
          "metadata": {
            "needs_background": "light"
          }
        }
      ]
    },
    {
      "cell_type": "markdown",
      "source": [
        "Higher the AUC, the better the model is at predicting 0 classes as 0 and 1 classes as 1. By analogy, the Higher the AUC, the better the model is at distinguishing between patients with the diabetes and no diabetes."
      ],
      "metadata": {
        "id": "WmqAvpAaNsSF"
      }
    },
    {
      "cell_type": "code",
      "source": [],
      "metadata": {
        "id": "wzcpjabQNlo9"
      },
      "execution_count": null,
      "outputs": []
    }
  ]
}