{
  "cells": [
    {
      "cell_type": "markdown",
      "metadata": {
        "id": "view-in-github",
        "colab_type": "text"
      },
      "source": [
        "<a href=\"https://colab.research.google.com/github/yogithahegde/Full-stack-data-science-projects/blob/main/Ensemble_techniques.ipynb\" target=\"_parent\"><img src=\"https://colab.research.google.com/assets/colab-badge.svg\" alt=\"Open In Colab\"/></a>"
      ]
    },
    {
      "cell_type": "code",
      "execution_count": null,
      "metadata": {
        "colab": {
          "background_save": true
        },
        "id": "dQ1Ywkac5pUz"
      },
      "outputs": [],
      "source": [
        "#IMPORT A DATASET\n",
        "import pandas as pd\n",
        "import numpy as np\n",
        "import matplotlib.pyplot as plt\n",
        "from sklearn import datasets\n",
        "\n",
        "#SPLIT THE DATASET\n",
        "#USE EVERY TECHNIQUE MENTIONED BELOW\n",
        "#BEST IF THE DATA IS ALREADY CLEANED"
      ]
    },
    {
      "cell_type": "code",
      "execution_count": null,
      "metadata": {
        "colab": {
          "background_save": true
        },
        "id": "WKa5GeD1WX7v"
      },
      "outputs": [],
      "source": [
        "#DATASETS WITH NAMES\n",
        "\"\"\"\n",
        "iris = datasets.load_iris()\n",
        "X_iris = iris.data[:, :4] \n",
        "Y_iris = iris.target \n",
        "\"\"\"\n",
        "wine = pd.read_csv('/content/wine.csv')\n",
        "\n",
        "\n"
      ]
    },
    {
      "cell_type": "code",
      "execution_count": null,
      "metadata": {
        "colab": {
          "base_uri": "https://localhost:8080/",
          "height": 267
        },
        "id": "0n25W-D_9PXN",
        "outputId": "e2b48eae-0d95-46e9-b208-c55d2932af7a"
      },
      "outputs": [
        {
          "data": {
            "text/html": [
              "\n",
              "  <div id=\"df-048e2b60-aa9a-4d8d-bc59-c46c55ebc0e5\">\n",
              "    <div class=\"colab-df-container\">\n",
              "      <div>\n",
              "<style scoped>\n",
              "    .dataframe tbody tr th:only-of-type {\n",
              "        vertical-align: middle;\n",
              "    }\n",
              "\n",
              "    .dataframe tbody tr th {\n",
              "        vertical-align: top;\n",
              "    }\n",
              "\n",
              "    .dataframe thead th {\n",
              "        text-align: right;\n",
              "    }\n",
              "</style>\n",
              "<table border=\"1\" class=\"dataframe\">\n",
              "  <thead>\n",
              "    <tr style=\"text-align: right;\">\n",
              "      <th></th>\n",
              "      <th>fixed acidity</th>\n",
              "      <th>volatile acidity</th>\n",
              "      <th>citric acid</th>\n",
              "      <th>residual sugar</th>\n",
              "      <th>chlorides</th>\n",
              "      <th>free sulfur dioxide</th>\n",
              "      <th>total sulfur dioxide</th>\n",
              "      <th>density</th>\n",
              "      <th>pH</th>\n",
              "      <th>sulphates</th>\n",
              "      <th>alcohol</th>\n",
              "      <th>quality</th>\n",
              "    </tr>\n",
              "  </thead>\n",
              "  <tbody>\n",
              "    <tr>\n",
              "      <th>0</th>\n",
              "      <td>7.4</td>\n",
              "      <td>0.70</td>\n",
              "      <td>0.00</td>\n",
              "      <td>1.9</td>\n",
              "      <td>0.076</td>\n",
              "      <td>11.0</td>\n",
              "      <td>34.0</td>\n",
              "      <td>0.9978</td>\n",
              "      <td>3.51</td>\n",
              "      <td>0.56</td>\n",
              "      <td>9.4</td>\n",
              "      <td>bad</td>\n",
              "    </tr>\n",
              "    <tr>\n",
              "      <th>1</th>\n",
              "      <td>7.8</td>\n",
              "      <td>0.88</td>\n",
              "      <td>0.00</td>\n",
              "      <td>2.6</td>\n",
              "      <td>0.098</td>\n",
              "      <td>25.0</td>\n",
              "      <td>67.0</td>\n",
              "      <td>0.9968</td>\n",
              "      <td>3.20</td>\n",
              "      <td>0.68</td>\n",
              "      <td>9.8</td>\n",
              "      <td>bad</td>\n",
              "    </tr>\n",
              "    <tr>\n",
              "      <th>2</th>\n",
              "      <td>7.8</td>\n",
              "      <td>0.76</td>\n",
              "      <td>0.04</td>\n",
              "      <td>2.3</td>\n",
              "      <td>0.092</td>\n",
              "      <td>15.0</td>\n",
              "      <td>54.0</td>\n",
              "      <td>0.9970</td>\n",
              "      <td>3.26</td>\n",
              "      <td>0.65</td>\n",
              "      <td>9.8</td>\n",
              "      <td>bad</td>\n",
              "    </tr>\n",
              "    <tr>\n",
              "      <th>3</th>\n",
              "      <td>11.2</td>\n",
              "      <td>0.28</td>\n",
              "      <td>0.56</td>\n",
              "      <td>1.9</td>\n",
              "      <td>0.075</td>\n",
              "      <td>17.0</td>\n",
              "      <td>60.0</td>\n",
              "      <td>0.9980</td>\n",
              "      <td>3.16</td>\n",
              "      <td>0.58</td>\n",
              "      <td>9.8</td>\n",
              "      <td>good</td>\n",
              "    </tr>\n",
              "    <tr>\n",
              "      <th>4</th>\n",
              "      <td>7.4</td>\n",
              "      <td>0.70</td>\n",
              "      <td>0.00</td>\n",
              "      <td>1.9</td>\n",
              "      <td>0.076</td>\n",
              "      <td>11.0</td>\n",
              "      <td>34.0</td>\n",
              "      <td>0.9978</td>\n",
              "      <td>3.51</td>\n",
              "      <td>0.56</td>\n",
              "      <td>9.4</td>\n",
              "      <td>bad</td>\n",
              "    </tr>\n",
              "  </tbody>\n",
              "</table>\n",
              "</div>\n",
              "      <button class=\"colab-df-convert\" onclick=\"convertToInteractive('df-048e2b60-aa9a-4d8d-bc59-c46c55ebc0e5')\"\n",
              "              title=\"Convert this dataframe to an interactive table.\"\n",
              "              style=\"display:none;\">\n",
              "        \n",
              "  <svg xmlns=\"http://www.w3.org/2000/svg\" height=\"24px\"viewBox=\"0 0 24 24\"\n",
              "       width=\"24px\">\n",
              "    <path d=\"M0 0h24v24H0V0z\" fill=\"none\"/>\n",
              "    <path d=\"M18.56 5.44l.94 2.06.94-2.06 2.06-.94-2.06-.94-.94-2.06-.94 2.06-2.06.94zm-11 1L8.5 8.5l.94-2.06 2.06-.94-2.06-.94L8.5 2.5l-.94 2.06-2.06.94zm10 10l.94 2.06.94-2.06 2.06-.94-2.06-.94-.94-2.06-.94 2.06-2.06.94z\"/><path d=\"M17.41 7.96l-1.37-1.37c-.4-.4-.92-.59-1.43-.59-.52 0-1.04.2-1.43.59L10.3 9.45l-7.72 7.72c-.78.78-.78 2.05 0 2.83L4 21.41c.39.39.9.59 1.41.59.51 0 1.02-.2 1.41-.59l7.78-7.78 2.81-2.81c.8-.78.8-2.07 0-2.86zM5.41 20L4 18.59l7.72-7.72 1.47 1.35L5.41 20z\"/>\n",
              "  </svg>\n",
              "      </button>\n",
              "      \n",
              "  <style>\n",
              "    .colab-df-container {\n",
              "      display:flex;\n",
              "      flex-wrap:wrap;\n",
              "      gap: 12px;\n",
              "    }\n",
              "\n",
              "    .colab-df-convert {\n",
              "      background-color: #E8F0FE;\n",
              "      border: none;\n",
              "      border-radius: 50%;\n",
              "      cursor: pointer;\n",
              "      display: none;\n",
              "      fill: #1967D2;\n",
              "      height: 32px;\n",
              "      padding: 0 0 0 0;\n",
              "      width: 32px;\n",
              "    }\n",
              "\n",
              "    .colab-df-convert:hover {\n",
              "      background-color: #E2EBFA;\n",
              "      box-shadow: 0px 1px 2px rgba(60, 64, 67, 0.3), 0px 1px 3px 1px rgba(60, 64, 67, 0.15);\n",
              "      fill: #174EA6;\n",
              "    }\n",
              "\n",
              "    [theme=dark] .colab-df-convert {\n",
              "      background-color: #3B4455;\n",
              "      fill: #D2E3FC;\n",
              "    }\n",
              "\n",
              "    [theme=dark] .colab-df-convert:hover {\n",
              "      background-color: #434B5C;\n",
              "      box-shadow: 0px 1px 3px 1px rgba(0, 0, 0, 0.15);\n",
              "      filter: drop-shadow(0px 1px 2px rgba(0, 0, 0, 0.3));\n",
              "      fill: #FFFFFF;\n",
              "    }\n",
              "  </style>\n",
              "\n",
              "      <script>\n",
              "        const buttonEl =\n",
              "          document.querySelector('#df-048e2b60-aa9a-4d8d-bc59-c46c55ebc0e5 button.colab-df-convert');\n",
              "        buttonEl.style.display =\n",
              "          google.colab.kernel.accessAllowed ? 'block' : 'none';\n",
              "\n",
              "        async function convertToInteractive(key) {\n",
              "          const element = document.querySelector('#df-048e2b60-aa9a-4d8d-bc59-c46c55ebc0e5');\n",
              "          const dataTable =\n",
              "            await google.colab.kernel.invokeFunction('convertToInteractive',\n",
              "                                                     [key], {});\n",
              "          if (!dataTable) return;\n",
              "\n",
              "          const docLinkHtml = 'Like what you see? Visit the ' +\n",
              "            '<a target=\"_blank\" href=https://colab.research.google.com/notebooks/data_table.ipynb>data table notebook</a>'\n",
              "            + ' to learn more about interactive tables.';\n",
              "          element.innerHTML = '';\n",
              "          dataTable['output_type'] = 'display_data';\n",
              "          await google.colab.output.renderOutput(dataTable, element);\n",
              "          const docLink = document.createElement('div');\n",
              "          docLink.innerHTML = docLinkHtml;\n",
              "          element.appendChild(docLink);\n",
              "        }\n",
              "      </script>\n",
              "    </div>\n",
              "  </div>\n",
              "  "
            ],
            "text/plain": [
              "   fixed acidity  volatile acidity  citric acid  residual sugar  chlorides  \\\n",
              "0            7.4              0.70         0.00             1.9      0.076   \n",
              "1            7.8              0.88         0.00             2.6      0.098   \n",
              "2            7.8              0.76         0.04             2.3      0.092   \n",
              "3           11.2              0.28         0.56             1.9      0.075   \n",
              "4            7.4              0.70         0.00             1.9      0.076   \n",
              "\n",
              "   free sulfur dioxide  total sulfur dioxide  density    pH  sulphates  \\\n",
              "0                 11.0                  34.0   0.9978  3.51       0.56   \n",
              "1                 25.0                  67.0   0.9968  3.20       0.68   \n",
              "2                 15.0                  54.0   0.9970  3.26       0.65   \n",
              "3                 17.0                  60.0   0.9980  3.16       0.58   \n",
              "4                 11.0                  34.0   0.9978  3.51       0.56   \n",
              "\n",
              "   alcohol quality  \n",
              "0      9.4     bad  \n",
              "1      9.8     bad  \n",
              "2      9.8     bad  \n",
              "3      9.8    good  \n",
              "4      9.4     bad  "
            ]
          },
          "execution_count": 3,
          "metadata": {},
          "output_type": "execute_result"
        }
      ],
      "source": [
        "wine.head()"
      ]
    },
    {
      "cell_type": "code",
      "execution_count": null,
      "metadata": {
        "colab": {
          "base_uri": "https://localhost:8080/"
        },
        "id": "298iejg-9PjE",
        "outputId": "cf6044f8-67fb-446d-9fa8-ff56e7449720"
      },
      "outputs": [
        {
          "data": {
            "text/plain": [
              "fixed acidity           0\n",
              "volatile acidity        0\n",
              "citric acid             0\n",
              "residual sugar          0\n",
              "chlorides               0\n",
              "free sulfur dioxide     0\n",
              "total sulfur dioxide    0\n",
              "density                 0\n",
              "pH                      0\n",
              "sulphates               0\n",
              "alcohol                 0\n",
              "quality                 0\n",
              "dtype: int64"
            ]
          },
          "execution_count": 4,
          "metadata": {},
          "output_type": "execute_result"
        }
      ],
      "source": [
        "wine.isnull().sum()"
      ]
    },
    {
      "cell_type": "markdown",
      "metadata": {
        "id": "fRaJZyRDWUpN"
      },
      "source": [
        "There are no null values but a lot of zeros\n",
        "* this is left as it is intentionally"
      ]
    },
    {
      "cell_type": "code",
      "execution_count": null,
      "metadata": {
        "colab": {
          "base_uri": "https://localhost:8080/",
          "height": 379
        },
        "id": "YbpJocmt9Plp",
        "outputId": "6a5dd8d8-e0ea-49fe-b7d2-440b103c78c2"
      },
      "outputs": [
        {
          "data": {
            "text/html": [
              "\n",
              "  <div id=\"df-34f6cc11-db48-437c-84d5-2581638663c6\">\n",
              "    <div class=\"colab-df-container\">\n",
              "      <div>\n",
              "<style scoped>\n",
              "    .dataframe tbody tr th:only-of-type {\n",
              "        vertical-align: middle;\n",
              "    }\n",
              "\n",
              "    .dataframe tbody tr th {\n",
              "        vertical-align: top;\n",
              "    }\n",
              "\n",
              "    .dataframe thead th {\n",
              "        text-align: right;\n",
              "    }\n",
              "</style>\n",
              "<table border=\"1\" class=\"dataframe\">\n",
              "  <thead>\n",
              "    <tr style=\"text-align: right;\">\n",
              "      <th></th>\n",
              "      <th>fixed acidity</th>\n",
              "      <th>volatile acidity</th>\n",
              "      <th>citric acid</th>\n",
              "      <th>residual sugar</th>\n",
              "      <th>chlorides</th>\n",
              "      <th>free sulfur dioxide</th>\n",
              "      <th>total sulfur dioxide</th>\n",
              "      <th>density</th>\n",
              "      <th>pH</th>\n",
              "      <th>sulphates</th>\n",
              "      <th>alcohol</th>\n",
              "    </tr>\n",
              "  </thead>\n",
              "  <tbody>\n",
              "    <tr>\n",
              "      <th>count</th>\n",
              "      <td>1599.000000</td>\n",
              "      <td>1599.000000</td>\n",
              "      <td>1599.000000</td>\n",
              "      <td>1599.000000</td>\n",
              "      <td>1599.000000</td>\n",
              "      <td>1599.000000</td>\n",
              "      <td>1599.000000</td>\n",
              "      <td>1599.000000</td>\n",
              "      <td>1599.000000</td>\n",
              "      <td>1599.000000</td>\n",
              "      <td>1599.000000</td>\n",
              "    </tr>\n",
              "    <tr>\n",
              "      <th>mean</th>\n",
              "      <td>8.319637</td>\n",
              "      <td>0.527821</td>\n",
              "      <td>0.270976</td>\n",
              "      <td>2.538806</td>\n",
              "      <td>0.087467</td>\n",
              "      <td>15.874922</td>\n",
              "      <td>46.467792</td>\n",
              "      <td>0.996747</td>\n",
              "      <td>3.311113</td>\n",
              "      <td>0.658149</td>\n",
              "      <td>10.422983</td>\n",
              "    </tr>\n",
              "    <tr>\n",
              "      <th>std</th>\n",
              "      <td>1.741096</td>\n",
              "      <td>0.179060</td>\n",
              "      <td>0.194801</td>\n",
              "      <td>1.409928</td>\n",
              "      <td>0.047065</td>\n",
              "      <td>10.460157</td>\n",
              "      <td>32.895324</td>\n",
              "      <td>0.001887</td>\n",
              "      <td>0.154386</td>\n",
              "      <td>0.169507</td>\n",
              "      <td>1.065668</td>\n",
              "    </tr>\n",
              "    <tr>\n",
              "      <th>min</th>\n",
              "      <td>4.600000</td>\n",
              "      <td>0.120000</td>\n",
              "      <td>0.000000</td>\n",
              "      <td>0.900000</td>\n",
              "      <td>0.012000</td>\n",
              "      <td>1.000000</td>\n",
              "      <td>6.000000</td>\n",
              "      <td>0.990070</td>\n",
              "      <td>2.740000</td>\n",
              "      <td>0.330000</td>\n",
              "      <td>8.400000</td>\n",
              "    </tr>\n",
              "    <tr>\n",
              "      <th>25%</th>\n",
              "      <td>7.100000</td>\n",
              "      <td>0.390000</td>\n",
              "      <td>0.090000</td>\n",
              "      <td>1.900000</td>\n",
              "      <td>0.070000</td>\n",
              "      <td>7.000000</td>\n",
              "      <td>22.000000</td>\n",
              "      <td>0.995600</td>\n",
              "      <td>3.210000</td>\n",
              "      <td>0.550000</td>\n",
              "      <td>9.500000</td>\n",
              "    </tr>\n",
              "    <tr>\n",
              "      <th>50%</th>\n",
              "      <td>7.900000</td>\n",
              "      <td>0.520000</td>\n",
              "      <td>0.260000</td>\n",
              "      <td>2.200000</td>\n",
              "      <td>0.079000</td>\n",
              "      <td>14.000000</td>\n",
              "      <td>38.000000</td>\n",
              "      <td>0.996750</td>\n",
              "      <td>3.310000</td>\n",
              "      <td>0.620000</td>\n",
              "      <td>10.200000</td>\n",
              "    </tr>\n",
              "    <tr>\n",
              "      <th>75%</th>\n",
              "      <td>9.200000</td>\n",
              "      <td>0.640000</td>\n",
              "      <td>0.420000</td>\n",
              "      <td>2.600000</td>\n",
              "      <td>0.090000</td>\n",
              "      <td>21.000000</td>\n",
              "      <td>62.000000</td>\n",
              "      <td>0.997835</td>\n",
              "      <td>3.400000</td>\n",
              "      <td>0.730000</td>\n",
              "      <td>11.100000</td>\n",
              "    </tr>\n",
              "    <tr>\n",
              "      <th>max</th>\n",
              "      <td>15.900000</td>\n",
              "      <td>1.580000</td>\n",
              "      <td>1.000000</td>\n",
              "      <td>15.500000</td>\n",
              "      <td>0.611000</td>\n",
              "      <td>72.000000</td>\n",
              "      <td>289.000000</td>\n",
              "      <td>1.003690</td>\n",
              "      <td>4.010000</td>\n",
              "      <td>2.000000</td>\n",
              "      <td>14.900000</td>\n",
              "    </tr>\n",
              "  </tbody>\n",
              "</table>\n",
              "</div>\n",
              "      <button class=\"colab-df-convert\" onclick=\"convertToInteractive('df-34f6cc11-db48-437c-84d5-2581638663c6')\"\n",
              "              title=\"Convert this dataframe to an interactive table.\"\n",
              "              style=\"display:none;\">\n",
              "        \n",
              "  <svg xmlns=\"http://www.w3.org/2000/svg\" height=\"24px\"viewBox=\"0 0 24 24\"\n",
              "       width=\"24px\">\n",
              "    <path d=\"M0 0h24v24H0V0z\" fill=\"none\"/>\n",
              "    <path d=\"M18.56 5.44l.94 2.06.94-2.06 2.06-.94-2.06-.94-.94-2.06-.94 2.06-2.06.94zm-11 1L8.5 8.5l.94-2.06 2.06-.94-2.06-.94L8.5 2.5l-.94 2.06-2.06.94zm10 10l.94 2.06.94-2.06 2.06-.94-2.06-.94-.94-2.06-.94 2.06-2.06.94z\"/><path d=\"M17.41 7.96l-1.37-1.37c-.4-.4-.92-.59-1.43-.59-.52 0-1.04.2-1.43.59L10.3 9.45l-7.72 7.72c-.78.78-.78 2.05 0 2.83L4 21.41c.39.39.9.59 1.41.59.51 0 1.02-.2 1.41-.59l7.78-7.78 2.81-2.81c.8-.78.8-2.07 0-2.86zM5.41 20L4 18.59l7.72-7.72 1.47 1.35L5.41 20z\"/>\n",
              "  </svg>\n",
              "      </button>\n",
              "      \n",
              "  <style>\n",
              "    .colab-df-container {\n",
              "      display:flex;\n",
              "      flex-wrap:wrap;\n",
              "      gap: 12px;\n",
              "    }\n",
              "\n",
              "    .colab-df-convert {\n",
              "      background-color: #E8F0FE;\n",
              "      border: none;\n",
              "      border-radius: 50%;\n",
              "      cursor: pointer;\n",
              "      display: none;\n",
              "      fill: #1967D2;\n",
              "      height: 32px;\n",
              "      padding: 0 0 0 0;\n",
              "      width: 32px;\n",
              "    }\n",
              "\n",
              "    .colab-df-convert:hover {\n",
              "      background-color: #E2EBFA;\n",
              "      box-shadow: 0px 1px 2px rgba(60, 64, 67, 0.3), 0px 1px 3px 1px rgba(60, 64, 67, 0.15);\n",
              "      fill: #174EA6;\n",
              "    }\n",
              "\n",
              "    [theme=dark] .colab-df-convert {\n",
              "      background-color: #3B4455;\n",
              "      fill: #D2E3FC;\n",
              "    }\n",
              "\n",
              "    [theme=dark] .colab-df-convert:hover {\n",
              "      background-color: #434B5C;\n",
              "      box-shadow: 0px 1px 3px 1px rgba(0, 0, 0, 0.15);\n",
              "      filter: drop-shadow(0px 1px 2px rgba(0, 0, 0, 0.3));\n",
              "      fill: #FFFFFF;\n",
              "    }\n",
              "  </style>\n",
              "\n",
              "      <script>\n",
              "        const buttonEl =\n",
              "          document.querySelector('#df-34f6cc11-db48-437c-84d5-2581638663c6 button.colab-df-convert');\n",
              "        buttonEl.style.display =\n",
              "          google.colab.kernel.accessAllowed ? 'block' : 'none';\n",
              "\n",
              "        async function convertToInteractive(key) {\n",
              "          const element = document.querySelector('#df-34f6cc11-db48-437c-84d5-2581638663c6');\n",
              "          const dataTable =\n",
              "            await google.colab.kernel.invokeFunction('convertToInteractive',\n",
              "                                                     [key], {});\n",
              "          if (!dataTable) return;\n",
              "\n",
              "          const docLinkHtml = 'Like what you see? Visit the ' +\n",
              "            '<a target=\"_blank\" href=https://colab.research.google.com/notebooks/data_table.ipynb>data table notebook</a>'\n",
              "            + ' to learn more about interactive tables.';\n",
              "          element.innerHTML = '';\n",
              "          dataTable['output_type'] = 'display_data';\n",
              "          await google.colab.output.renderOutput(dataTable, element);\n",
              "          const docLink = document.createElement('div');\n",
              "          docLink.innerHTML = docLinkHtml;\n",
              "          element.appendChild(docLink);\n",
              "        }\n",
              "      </script>\n",
              "    </div>\n",
              "  </div>\n",
              "  "
            ],
            "text/plain": [
              "       fixed acidity  volatile acidity  citric acid  residual sugar  \\\n",
              "count    1599.000000       1599.000000  1599.000000     1599.000000   \n",
              "mean        8.319637          0.527821     0.270976        2.538806   \n",
              "std         1.741096          0.179060     0.194801        1.409928   \n",
              "min         4.600000          0.120000     0.000000        0.900000   \n",
              "25%         7.100000          0.390000     0.090000        1.900000   \n",
              "50%         7.900000          0.520000     0.260000        2.200000   \n",
              "75%         9.200000          0.640000     0.420000        2.600000   \n",
              "max        15.900000          1.580000     1.000000       15.500000   \n",
              "\n",
              "         chlorides  free sulfur dioxide  total sulfur dioxide      density  \\\n",
              "count  1599.000000          1599.000000           1599.000000  1599.000000   \n",
              "mean      0.087467            15.874922             46.467792     0.996747   \n",
              "std       0.047065            10.460157             32.895324     0.001887   \n",
              "min       0.012000             1.000000              6.000000     0.990070   \n",
              "25%       0.070000             7.000000             22.000000     0.995600   \n",
              "50%       0.079000            14.000000             38.000000     0.996750   \n",
              "75%       0.090000            21.000000             62.000000     0.997835   \n",
              "max       0.611000            72.000000            289.000000     1.003690   \n",
              "\n",
              "                pH    sulphates      alcohol  \n",
              "count  1599.000000  1599.000000  1599.000000  \n",
              "mean      3.311113     0.658149    10.422983  \n",
              "std       0.154386     0.169507     1.065668  \n",
              "min       2.740000     0.330000     8.400000  \n",
              "25%       3.210000     0.550000     9.500000  \n",
              "50%       3.310000     0.620000    10.200000  \n",
              "75%       3.400000     0.730000    11.100000  \n",
              "max       4.010000     2.000000    14.900000  "
            ]
          },
          "execution_count": 5,
          "metadata": {},
          "output_type": "execute_result"
        }
      ],
      "source": [
        "wine.describe()"
      ]
    },
    {
      "cell_type": "code",
      "execution_count": null,
      "metadata": {
        "colab": {
          "background_save": true
        },
        "id": "Uzn6KHZhZMYx"
      },
      "outputs": [],
      "source": [
        "#split to x and y then scale the x values\n",
        "x = wine.iloc[: , :-1]\n",
        "y = wine.iloc[: ,-1]\n",
        "from sklearn.preprocessing import StandardScaler\n",
        "scaler = StandardScaler()\n",
        "xscaled= scaler.fit_transform(x)\n",
        "from sklearn.preprocessing import LabelEncoder\n",
        "encoder = LabelEncoder()\n",
        "y = encoder.fit_transform(y)\n"
      ]
    },
    {
      "cell_type": "code",
      "execution_count": null,
      "metadata": {
        "colab": {
          "base_uri": "https://localhost:8080/"
        },
        "id": "Ahz1epGiZhRw",
        "outputId": "38b50847-a47a-410e-e512-17c7759cda7a"
      },
      "outputs": [
        {
          "name": "stdout",
          "output_type": "stream",
          "text": [
            "[[-0.52835961  0.96187667 -1.39147228 ...  1.28864292 -0.57920652\n",
            "  -0.96024611]\n",
            " [-0.29854743  1.96744245 -1.39147228 ... -0.7199333   0.1289504\n",
            "  -0.58477711]\n",
            " [-0.29854743  1.29706527 -1.18607043 ... -0.33117661 -0.04808883\n",
            "  -0.58477711]\n",
            " ...\n",
            " [-1.1603431  -0.09955388 -0.72391627 ...  0.70550789  0.54204194\n",
            "   0.54162988]\n",
            " [-1.39015528  0.65462046 -0.77526673 ...  1.6773996   0.30598963\n",
            "  -0.20930812]\n",
            " [-1.33270223 -1.21684919  1.02199944 ...  0.51112954  0.01092425\n",
            "   0.54162988]]\n",
            "[0 0 0 ... 1 0 1]\n"
          ]
        }
      ],
      "source": [
        "print(xscaled)\n",
        "print(y)"
      ]
    },
    {
      "cell_type": "code",
      "execution_count": null,
      "metadata": {
        "colab": {
          "background_save": true
        },
        "id": "Qzgh_IKI9Pq4"
      },
      "outputs": [],
      "source": [
        "#train test split\n",
        "from sklearn.model_selection import train_test_split\n",
        "x_train,x_test,y_train,y_test = train_test_split(xscaled,y,test_size =0.2,random_state = 42)"
      ]
    },
    {
      "cell_type": "code",
      "execution_count": null,
      "metadata": {
        "id": "5b5_k6PB9PuT"
      },
      "outputs": [],
      "source": []
    },
    {
      "cell_type": "markdown",
      "metadata": {
        "id": "_ZTRHE2YPDlh"
      },
      "source": [
        "How does acidity affect the taste of wine?\n",
        "* A wine that has high acidity will usually taste crisper and more tart on the palate. A low acid wine will feel softer and rounder on the palate. A great way to detect the acidity of a wine is by assessing how much it makes your mouth water.\n",
        "* Citric\t0.04 to 0.7\n",
        "* pH values range from 2.9 to 4.2"
      ]
    },
    {
      "cell_type": "markdown",
      "metadata": {
        "id": "V6m3mhYElMcj"
      },
      "source": [
        "#ENSEMBLE TECHNIQUES"
      ]
    },
    {
      "cell_type": "code",
      "execution_count": null,
      "metadata": {
        "colab": {
          "base_uri": "https://localhost:8080/"
        },
        "id": "FfNOcFpISwij",
        "outputId": "711eac1c-5f09-4def-c363-808cde41fe36"
      },
      "outputs": [
        {
          "name": "stdout",
          "output_type": "stream",
          "text": [
            "max voting score with soft voting : 0.73125\n",
            "max voting score with hard voting : 0.725\n",
            "weighted average result:  0.728125\n"
          ]
        }
      ],
      "source": [
        "#Max voting \n",
        "from sklearn.ensemble import VotingClassifier\n",
        "from sklearn.linear_model import LogisticRegression\n",
        "from sklearn.neighbors import KNeighborsClassifier\n",
        "from sklearn import tree\n",
        "model1 = LogisticRegression(random_state=1)\n",
        "model2 = tree.DecisionTreeClassifier(random_state=1)\n",
        "model3 = KNeighborsClassifier()\n",
        "model_soft= VotingClassifier(estimators=[('lr', model1), ('dt', model2)], voting='soft')\n",
        "model_hard= VotingClassifier(estimators=[('lr', model1), ('dt', model2)], voting='hard')\n",
        "model_soft.fit(x_train,y_train)\n",
        "ypredsoft = model_soft.predict(x_test)\n",
        "print('max voting score with soft voting :', model_soft.score(x_test,y_test))\n",
        "model_hard.fit(x_train,y_train)\n",
        "ypredhard = model_hard.predict(x_test)\n",
        "print('max voting score with hard voting :', model_hard.score(x_test,y_test))\n",
        "\n",
        "# WEIGHTED AVERAGE \n",
        "wtavg = VotingClassifier(estimators=[('lr', model1), ('dt', model2)], voting='soft',weights = [0.5,0.3])\n",
        "wtavg.fit(x_train,y_train)\n",
        "print('weighted average result: ',wtavg.score(x_test,y_test))"
      ]
    },
    {
      "cell_type": "markdown",
      "metadata": {
        "id": "51o9b-KNW0cL"
      },
      "source": [
        "* Averaging can be used for making predictions in regression problems or while calculating probabilities for classification problems.\n",
        "* Max voting is used in classification problems: soft or hard voting"
      ]
    },
    {
      "cell_type": "markdown",
      "metadata": {
        "id": "JO-47uNyzlox"
      },
      "source": [
        "STACKING"
      ]
    },
    {
      "cell_type": "code",
      "execution_count": null,
      "metadata": {
        "colab": {
          "base_uri": "https://localhost:8080/"
        },
        "id": "16xfVuD2xkwq",
        "outputId": "22813646-dea3-4b57-c6b6-85625ce10e9b"
      },
      "outputs": [
        {
          "name": "stdout",
          "output_type": "stream",
          "text": [
            "The final accuracy score is:  0.7373569749216301\n"
          ]
        }
      ],
      "source": [
        "#stacking\n",
        "from sklearn.tree import DecisionTreeClassifier\n",
        "from sklearn.ensemble import RandomForestClassifier\n",
        "from sklearn.neighbors import KNeighborsClassifier\n",
        "from sklearn.linear_model import LogisticRegression\n",
        "from sklearn.ensemble import StackingClassifier\n",
        "import xgboost\n",
        "import pandas as pd\n",
        "from sklearn.model_selection import KFold\n",
        "from sklearn.model_selection import cross_val_score\n",
        "\n",
        "dtc =  DecisionTreeClassifier()\n",
        "rfc = RandomForestClassifier()\n",
        "knn =  KNeighborsClassifier()\n",
        "xgb = xgboost.XGBClassifier()\n",
        "clf = [('dtc',dtc),('rfc',rfc),('knn',knn),('xgb',xgb)] #list of (str, estimator)\n",
        "\n",
        "lr = LogisticRegression()\n",
        "stack_model = StackingClassifier( estimators = clf,final_estimator = lr)\n",
        "score = cross_val_score(stack_model,xscaled,y,cv = 5,scoring = 'accuracy')\n",
        "print(\"The final accuracy score is: \",score.mean())"
      ]
    },
    {
      "cell_type": "markdown",
      "metadata": {
        "id": "CIWA105U0BWc"
      },
      "source": [
        "BLENDING"
      ]
    },
    {
      "cell_type": "code",
      "execution_count": null,
      "metadata": {
        "id": "c8Ef0DVT0DtV"
      },
      "outputs": [],
      "source": [
        "model1 = tree.DecisionTreeClassifier()\n",
        "model1.fit(x_train, y_train)\n",
        "val_pred1=model1.predict(x_val)\n",
        "test_pred1=model1.predict(x_test)\n",
        "val_pred1=pd.DataFrame(val_pred1)\n",
        "test_pred1=pd.DataFrame(test_pred1)\n",
        "\n",
        "model2 = KNeighborsClassifier()\n",
        "model2.fit(x_train,y_train)\n",
        "val_pred2=model2.predict(x_val)\n",
        "test_pred2=model2.predict(x_test)\n",
        "val_pred2=pd.DataFrame(val_pred2)\n",
        "test_pred2=pd.DataFrame(test_pred2)"
      ]
    },
    {
      "cell_type": "code",
      "execution_count": null,
      "metadata": {
        "id": "EDLxsArm0HBa"
      },
      "outputs": [],
      "source": [
        "df_val=pd.concat([x_val, val_pred1,val_pred2],axis=1)\n",
        "df_test=pd.concat([x_test, test_pred1,test_pred2],axis=1)\n",
        "\n",
        "model = LogisticRegression()\n",
        "model.fit(df_val,y_val)\n",
        "model.score(df_test,y_test)"
      ]
    },
    {
      "cell_type": "markdown",
      "metadata": {
        "id": "icTBc25sZkdT"
      },
      "source": [
        "* Bagging to decrease the model’s variance;\n",
        "* Boosting to decreasing the model’s bias, and;\n",
        "* Stacking to increasing the predictive force of the classifier."
      ]
    },
    {
      "cell_type": "markdown",
      "metadata": {
        "id": "C3RYJO8d0mIP"
      },
      "source": [
        "BAGGING WITH BOOTSTRAPPING\n",
        "\n",
        "\n",
        "\n",
        "\n",
        "\n",
        "![Screenshot 2022-12-26 151601.png](data:image/png;base64,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)"
      ]
    },
    {
      "cell_type": "markdown",
      "metadata": {
        "id": "neOdJwQG5Ue6"
      },
      "source": [
        "BAGGING META ESTIMATOR"
      ]
    },
    {
      "cell_type": "code",
      "execution_count": null,
      "metadata": {
        "colab": {
          "base_uri": "https://localhost:8080/"
        },
        "id": "QMueiD510HEB",
        "outputId": "739d2806-0fe8-4e1f-b73c-1609cad289fc"
      },
      "outputs": [
        {
          "data": {
            "text/plain": [
              "0.778125"
            ]
          },
          "execution_count": 29,
          "metadata": {},
          "output_type": "execute_result"
        }
      ],
      "source": [
        "#wine dataset\n",
        "from sklearn.ensemble import BaggingClassifier\n",
        "from sklearn import tree\n",
        "model = BaggingClassifier(tree.DecisionTreeClassifier(random_state=1))\n",
        "model.fit(x_train, y_train)\n",
        "model.score(x_test,y_test)\n",
        "\n",
        "\"\"\"\n",
        "#REGRESSOR\n",
        "from sklearn.ensemble import BaggingRegressor\n",
        "model = BaggingRegressor(tree.DecisionTreeRegressor(random_state=1))\n",
        "model.fit(x_train, y_train)\n",
        "model.score(x_test,y_test)\n",
        "\"\"\"\n"
      ]
    },
    {
      "cell_type": "markdown",
      "metadata": {
        "id": "AyO-bXNS5X1Y"
      },
      "source": [
        "ADABOOST"
      ]
    },
    {
      "cell_type": "code",
      "execution_count": null,
      "metadata": {
        "colab": {
          "base_uri": "https://localhost:8080/"
        },
        "id": "IbYVSjYI0HGy",
        "outputId": "7cdfa749-eb87-44d6-9731-d3741f228e91"
      },
      "outputs": [
        {
          "data": {
            "text/plain": [
              "0.74375"
            ]
          },
          "execution_count": 11,
          "metadata": {},
          "output_type": "execute_result"
        }
      ],
      "source": [
        "#ADABOOST CLASSIFIER\n",
        "from sklearn.ensemble import AdaBoostClassifier\n",
        "model = AdaBoostClassifier(random_state=1)\n",
        "model.fit(x_train, y_train)\n",
        "model.score(x_test,y_test)\n",
        "\n",
        "\"\"\"\n",
        "#ADABOOST REGRESSOR\n",
        "from sklearn.ensemble import AdaBoostRegressor\n",
        "model = AdaBoostRegressor()\n",
        "model.fit(x_train, y_train)\n",
        "model.score(x_test,y_test)\n",
        "\"\"\"\n"
      ]
    },
    {
      "cell_type": "markdown",
      "metadata": {
        "id": "a0f07dCp5auk"
      },
      "source": [
        "GRADIENT BOOST"
      ]
    },
    {
      "cell_type": "code",
      "execution_count": null,
      "metadata": {
        "id": "hramEDOJl_0-"
      },
      "outputs": [],
      "source": [
        "from sklearn.ensemble import GradientBoostingClassifier\n",
        "clf = GradientBoostingClassifier(n_estimators=100, learning_rate=1.0,max_depth=1, random_state=0)\n",
        "clf.fit(x_train, y_train)\n",
        "clf.score(x_test, y_test)"
      ]
    },
    {
      "cell_type": "markdown",
      "metadata": {
        "id": "ngqgNhE-5dV0"
      },
      "source": [
        "XGBOOST"
      ]
    },
    {
      "cell_type": "code",
      "execution_count": null,
      "metadata": {
        "colab": {
          "base_uri": "https://localhost:8080/"
        },
        "id": "m9TA_hVGMk2K",
        "outputId": "ef36da33-9b55-4d36-fa60-976ae9e9bd9d"
      },
      "outputs": [
        {
          "data": {
            "text/plain": [
              "0.70625"
            ]
          },
          "execution_count": 14,
          "metadata": {},
          "output_type": "execute_result"
        }
      ],
      "source": [
        "#XGBOOST CLASSIFIER\n",
        "import xgboost as xgb\n",
        "model=xgb.XGBClassifier(random_state=1,learning_rate=0.01)\n",
        "model.fit(x_train, y_train)\n",
        "model.score(x_test,y_test)\n",
        "\n",
        "\"\"\"\n",
        "#XGBOOST REGRESSOR\n",
        "import xgboost as xgb\n",
        "model=xgb.XGBRegressor()\n",
        "model.fit(x_train, y_train)\n",
        "model.score(x_test,y_test)\n",
        "\"\"\""
      ]
    },
    {
      "cell_type": "markdown",
      "metadata": {
        "id": "g1_52P2h5fyb"
      },
      "source": [
        "CATBOOST"
      ]
    },
    {
      "cell_type": "code",
      "execution_count": null,
      "metadata": {
        "id": "lUZjNE5ZMk5G"
      },
      "outputs": [],
      "source": [
        "\"\"\"#CATBOOST\n",
        "from catboost import CatBoostClassifier\n",
        "model=CatBoostClassifier()\n",
        "categorical_features_indices = np.where(df.dtypes != np.float)[0]\n",
        "model.fit(x_train,y_train,cat_features=([ 0,  1, 2, 3, 4, 10]),eval_set=(x_test, y_test))\n",
        "model.score(x_test,y_test)\n",
        "\n",
        "#CATBOOST REGRESSOR\n",
        "from catboost import CatBoostRegressor\n",
        "model=CatBoostRegressor()\n",
        "categorical_features_indices = np.where(df.dtypes != np.float)[0]\n",
        "model.fit(x_train,y_train,cat_features=([ 0,  1, 2, 3, 4, 10]),eval_set=(x_test, y_test))\n",
        "model.score(x_test,y_test)"
      ]
    },
    {
      "cell_type": "markdown",
      "metadata": {
        "id": "rAgJSj9p5inE"
      },
      "source": [
        "LIGHT GBM"
      ]
    },
    {
      "cell_type": "code",
      "execution_count": null,
      "metadata": {
        "id": "p55yqimjMk7t"
      },
      "outputs": [],
      "source": [
        "\"\"\"#LIGHT GBM\n",
        "import lightgbm as lgb\n",
        "train_data=lgb.Dataset(x_train,label=y_train)\n",
        "#define parameters\n",
        "params = {'learning_rate':0.001}\n",
        "model= lgb.train(params, train_data, 100) \n",
        "y_pred=model.predict(x_test)\n",
        "for i in range(0,185):\n",
        "   if y_pred[i]>=0.5: \n",
        "   y_pred[i]=1\n",
        "else: \n",
        "   y_pred[i]=0\n",
        "\n",
        "\n",
        "# REGRESSOR\n",
        "import lightgbm as lgb\n",
        "train_data=lgb.Dataset(x_train,label=y_train)\n",
        "params = {'learning_rate':0.001}\n",
        "model= lgb.train(params, train_data, 100)\n",
        "from sklearn.metrics import mean_squared_error\n",
        "rmse=mean_squared_error(y_pred,y_test)**0.5"
      ]
    },
    {
      "cell_type": "code",
      "execution_count": null,
      "metadata": {
        "id": "rQPOFSJYMk-Q"
      },
      "outputs": [],
      "source": []
    },
    {
      "cell_type": "code",
      "execution_count": null,
      "metadata": {
        "id": "y14ka6O2MlBy"
      },
      "outputs": [],
      "source": []
    }
  ],
  "metadata": {
    "colab": {
      "provenance": [],
      "authorship_tag": "ABX9TyMobQQpj5H+SLuC0m8USop+",
      "include_colab_link": true
    },
    "kernelspec": {
      "display_name": "Python 3",
      "name": "python3"
    },
    "language_info": {
      "name": "python"
    }
  },
  "nbformat": 4,
  "nbformat_minor": 0
}